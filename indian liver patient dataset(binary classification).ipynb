{
 "cells": [
  {
   "cell_type": "markdown",
   "id": "8baf5c46",
   "metadata": {},
   "source": [
    "# INDIAN LIVER PATIENT\n",
    "## About the dataset\n",
    "This data set contains 416 liver patient records and 167 non liver patient records.The data set was collected from test samples in North East of Andhra Pradesh, India. 'is_patient' is a class label used to divide into groups(liver patient or not). This data set contains 441 male patient records and 142 female patient records."
   ]
  },
  {
   "cell_type": "markdown",
   "id": "2fa58561",
   "metadata": {},
   "source": [
    "## Attribute information\n",
    "1.\tage Age of the patient\n",
    "2.\tgender Gender of the patient\n",
    "3.\ttot_bilirubin Total Bilirubin\n",
    "4.\tdirect_bilirubin Direct Bilirubin\n",
    "5.\talkphos Alkaline Phosphotase\n",
    "6.\tsgpt Alamine Aminotransferase\n",
    "7.\tsgot Aspartate Aminotransferase\n",
    "8.\ttot_proteins Total Protiens\n",
    "9.\talbumin Albumin\n",
    "10.\tag_ratio Albumin and Globulin Ratio\n",
    "11.\tis_patient Selector field used to split the data into two sets (labeled by the experts)\n"
   ]
  },
  {
   "cell_type": "markdown",
   "id": "688f53bb",
   "metadata": {},
   "source": [
    "## Import required libraries"
   ]
  },
  {
   "cell_type": "code",
   "execution_count": 1,
   "id": "fee82f21",
   "metadata": {},
   "outputs": [],
   "source": [
    "import numpy as np\n",
    "import pandas as pd \n",
    "import matplotlib.pyplot as plt\n",
    "import seaborn as sns"
   ]
  },
  {
   "cell_type": "markdown",
   "id": "bb5fccc6",
   "metadata": {},
   "source": [
    "## Review the data"
   ]
  },
  {
   "cell_type": "code",
   "execution_count": 2,
   "id": "2b1b7964",
   "metadata": {},
   "outputs": [],
   "source": [
    "df = pd.read_csv(r'Indian Liver Patient Dataset (ILPD).csv')"
   ]
  },
  {
   "cell_type": "code",
   "execution_count": 3,
   "id": "8cc84d01",
   "metadata": {},
   "outputs": [
    {
     "data": {
      "text/html": [
       "<div>\n",
       "<style scoped>\n",
       "    .dataframe tbody tr th:only-of-type {\n",
       "        vertical-align: middle;\n",
       "    }\n",
       "\n",
       "    .dataframe tbody tr th {\n",
       "        vertical-align: top;\n",
       "    }\n",
       "\n",
       "    .dataframe thead th {\n",
       "        text-align: right;\n",
       "    }\n",
       "</style>\n",
       "<table border=\"1\" class=\"dataframe\">\n",
       "  <thead>\n",
       "    <tr style=\"text-align: right;\">\n",
       "      <th></th>\n",
       "      <th>age</th>\n",
       "      <th>gender</th>\n",
       "      <th>tot_bilirubin</th>\n",
       "      <th>direct_bilirubin</th>\n",
       "      <th>tot_proteins</th>\n",
       "      <th>albumin</th>\n",
       "      <th>ag_ratio</th>\n",
       "      <th>sgpt</th>\n",
       "      <th>sgot</th>\n",
       "      <th>alkphos</th>\n",
       "      <th>is_patient</th>\n",
       "    </tr>\n",
       "  </thead>\n",
       "  <tbody>\n",
       "    <tr>\n",
       "      <th>0</th>\n",
       "      <td>65</td>\n",
       "      <td>Female</td>\n",
       "      <td>0.7</td>\n",
       "      <td>0.1</td>\n",
       "      <td>187</td>\n",
       "      <td>16</td>\n",
       "      <td>18</td>\n",
       "      <td>6.8</td>\n",
       "      <td>3.3</td>\n",
       "      <td>0.90</td>\n",
       "      <td>1</td>\n",
       "    </tr>\n",
       "    <tr>\n",
       "      <th>1</th>\n",
       "      <td>62</td>\n",
       "      <td>Male</td>\n",
       "      <td>10.9</td>\n",
       "      <td>5.5</td>\n",
       "      <td>699</td>\n",
       "      <td>64</td>\n",
       "      <td>100</td>\n",
       "      <td>7.5</td>\n",
       "      <td>3.2</td>\n",
       "      <td>0.74</td>\n",
       "      <td>1</td>\n",
       "    </tr>\n",
       "    <tr>\n",
       "      <th>2</th>\n",
       "      <td>62</td>\n",
       "      <td>Male</td>\n",
       "      <td>7.3</td>\n",
       "      <td>4.1</td>\n",
       "      <td>490</td>\n",
       "      <td>60</td>\n",
       "      <td>68</td>\n",
       "      <td>7.0</td>\n",
       "      <td>3.3</td>\n",
       "      <td>0.89</td>\n",
       "      <td>1</td>\n",
       "    </tr>\n",
       "    <tr>\n",
       "      <th>3</th>\n",
       "      <td>58</td>\n",
       "      <td>Male</td>\n",
       "      <td>1.0</td>\n",
       "      <td>0.4</td>\n",
       "      <td>182</td>\n",
       "      <td>14</td>\n",
       "      <td>20</td>\n",
       "      <td>6.8</td>\n",
       "      <td>3.4</td>\n",
       "      <td>1.00</td>\n",
       "      <td>1</td>\n",
       "    </tr>\n",
       "    <tr>\n",
       "      <th>4</th>\n",
       "      <td>72</td>\n",
       "      <td>Male</td>\n",
       "      <td>3.9</td>\n",
       "      <td>2.0</td>\n",
       "      <td>195</td>\n",
       "      <td>27</td>\n",
       "      <td>59</td>\n",
       "      <td>7.3</td>\n",
       "      <td>2.4</td>\n",
       "      <td>0.40</td>\n",
       "      <td>1</td>\n",
       "    </tr>\n",
       "  </tbody>\n",
       "</table>\n",
       "</div>"
      ],
      "text/plain": [
       "   age  gender  tot_bilirubin  direct_bilirubin  tot_proteins  albumin  \\\n",
       "0   65  Female            0.7               0.1           187       16   \n",
       "1   62    Male           10.9               5.5           699       64   \n",
       "2   62    Male            7.3               4.1           490       60   \n",
       "3   58    Male            1.0               0.4           182       14   \n",
       "4   72    Male            3.9               2.0           195       27   \n",
       "\n",
       "   ag_ratio  sgpt  sgot  alkphos  is_patient  \n",
       "0        18   6.8   3.3     0.90           1  \n",
       "1       100   7.5   3.2     0.74           1  \n",
       "2        68   7.0   3.3     0.89           1  \n",
       "3        20   6.8   3.4     1.00           1  \n",
       "4        59   7.3   2.4     0.40           1  "
      ]
     },
     "execution_count": 3,
     "metadata": {},
     "output_type": "execute_result"
    }
   ],
   "source": [
    "df.head(5)"
   ]
  },
  {
   "cell_type": "code",
   "execution_count": 4,
   "id": "4173db45",
   "metadata": {},
   "outputs": [
    {
     "name": "stdout",
     "output_type": "stream",
     "text": [
      "<class 'pandas.core.frame.DataFrame'>\n",
      "RangeIndex: 583 entries, 0 to 582\n",
      "Data columns (total 11 columns):\n",
      " #   Column            Non-Null Count  Dtype  \n",
      "---  ------            --------------  -----  \n",
      " 0   age               583 non-null    int64  \n",
      " 1   gender            583 non-null    object \n",
      " 2   tot_bilirubin     583 non-null    float64\n",
      " 3   direct_bilirubin  583 non-null    float64\n",
      " 4   tot_proteins      583 non-null    int64  \n",
      " 5   albumin           583 non-null    int64  \n",
      " 6   ag_ratio          583 non-null    int64  \n",
      " 7   sgpt              583 non-null    float64\n",
      " 8   sgot              583 non-null    float64\n",
      " 9   alkphos           579 non-null    float64\n",
      " 10  is_patient        583 non-null    int64  \n",
      "dtypes: float64(5), int64(5), object(1)\n",
      "memory usage: 50.2+ KB\n"
     ]
    }
   ],
   "source": [
    "df.info()"
   ]
  },
  {
   "cell_type": "code",
   "execution_count": 5,
   "id": "57471531",
   "metadata": {
    "scrolled": false
   },
   "outputs": [
    {
     "data": {
      "text/html": [
       "<div>\n",
       "<style scoped>\n",
       "    .dataframe tbody tr th:only-of-type {\n",
       "        vertical-align: middle;\n",
       "    }\n",
       "\n",
       "    .dataframe tbody tr th {\n",
       "        vertical-align: top;\n",
       "    }\n",
       "\n",
       "    .dataframe thead th {\n",
       "        text-align: right;\n",
       "    }\n",
       "</style>\n",
       "<table border=\"1\" class=\"dataframe\">\n",
       "  <thead>\n",
       "    <tr style=\"text-align: right;\">\n",
       "      <th></th>\n",
       "      <th>age</th>\n",
       "      <th>tot_bilirubin</th>\n",
       "      <th>direct_bilirubin</th>\n",
       "      <th>tot_proteins</th>\n",
       "      <th>albumin</th>\n",
       "      <th>ag_ratio</th>\n",
       "      <th>sgpt</th>\n",
       "      <th>sgot</th>\n",
       "      <th>alkphos</th>\n",
       "      <th>is_patient</th>\n",
       "    </tr>\n",
       "  </thead>\n",
       "  <tbody>\n",
       "    <tr>\n",
       "      <th>count</th>\n",
       "      <td>583.000000</td>\n",
       "      <td>583.000000</td>\n",
       "      <td>583.000000</td>\n",
       "      <td>583.000000</td>\n",
       "      <td>583.000000</td>\n",
       "      <td>583.000000</td>\n",
       "      <td>583.000000</td>\n",
       "      <td>583.000000</td>\n",
       "      <td>579.000000</td>\n",
       "      <td>583.000000</td>\n",
       "    </tr>\n",
       "    <tr>\n",
       "      <th>mean</th>\n",
       "      <td>44.746141</td>\n",
       "      <td>3.298799</td>\n",
       "      <td>1.486106</td>\n",
       "      <td>290.576329</td>\n",
       "      <td>80.713551</td>\n",
       "      <td>109.910806</td>\n",
       "      <td>6.483190</td>\n",
       "      <td>3.141852</td>\n",
       "      <td>0.947064</td>\n",
       "      <td>1.286449</td>\n",
       "    </tr>\n",
       "    <tr>\n",
       "      <th>std</th>\n",
       "      <td>16.189833</td>\n",
       "      <td>6.209522</td>\n",
       "      <td>2.808498</td>\n",
       "      <td>242.937989</td>\n",
       "      <td>182.620356</td>\n",
       "      <td>288.918529</td>\n",
       "      <td>1.085451</td>\n",
       "      <td>0.795519</td>\n",
       "      <td>0.319592</td>\n",
       "      <td>0.452490</td>\n",
       "    </tr>\n",
       "    <tr>\n",
       "      <th>min</th>\n",
       "      <td>4.000000</td>\n",
       "      <td>0.400000</td>\n",
       "      <td>0.100000</td>\n",
       "      <td>63.000000</td>\n",
       "      <td>10.000000</td>\n",
       "      <td>10.000000</td>\n",
       "      <td>2.700000</td>\n",
       "      <td>0.900000</td>\n",
       "      <td>0.300000</td>\n",
       "      <td>1.000000</td>\n",
       "    </tr>\n",
       "    <tr>\n",
       "      <th>25%</th>\n",
       "      <td>33.000000</td>\n",
       "      <td>0.800000</td>\n",
       "      <td>0.200000</td>\n",
       "      <td>175.500000</td>\n",
       "      <td>23.000000</td>\n",
       "      <td>25.000000</td>\n",
       "      <td>5.800000</td>\n",
       "      <td>2.600000</td>\n",
       "      <td>0.700000</td>\n",
       "      <td>1.000000</td>\n",
       "    </tr>\n",
       "    <tr>\n",
       "      <th>50%</th>\n",
       "      <td>45.000000</td>\n",
       "      <td>1.000000</td>\n",
       "      <td>0.300000</td>\n",
       "      <td>208.000000</td>\n",
       "      <td>35.000000</td>\n",
       "      <td>42.000000</td>\n",
       "      <td>6.600000</td>\n",
       "      <td>3.100000</td>\n",
       "      <td>0.930000</td>\n",
       "      <td>1.000000</td>\n",
       "    </tr>\n",
       "    <tr>\n",
       "      <th>75%</th>\n",
       "      <td>58.000000</td>\n",
       "      <td>2.600000</td>\n",
       "      <td>1.300000</td>\n",
       "      <td>298.000000</td>\n",
       "      <td>60.500000</td>\n",
       "      <td>87.000000</td>\n",
       "      <td>7.200000</td>\n",
       "      <td>3.800000</td>\n",
       "      <td>1.100000</td>\n",
       "      <td>2.000000</td>\n",
       "    </tr>\n",
       "    <tr>\n",
       "      <th>max</th>\n",
       "      <td>90.000000</td>\n",
       "      <td>75.000000</td>\n",
       "      <td>19.700000</td>\n",
       "      <td>2110.000000</td>\n",
       "      <td>2000.000000</td>\n",
       "      <td>4929.000000</td>\n",
       "      <td>9.600000</td>\n",
       "      <td>5.500000</td>\n",
       "      <td>2.800000</td>\n",
       "      <td>2.000000</td>\n",
       "    </tr>\n",
       "  </tbody>\n",
       "</table>\n",
       "</div>"
      ],
      "text/plain": [
       "              age  tot_bilirubin  direct_bilirubin  tot_proteins      albumin  \\\n",
       "count  583.000000     583.000000        583.000000    583.000000   583.000000   \n",
       "mean    44.746141       3.298799          1.486106    290.576329    80.713551   \n",
       "std     16.189833       6.209522          2.808498    242.937989   182.620356   \n",
       "min      4.000000       0.400000          0.100000     63.000000    10.000000   \n",
       "25%     33.000000       0.800000          0.200000    175.500000    23.000000   \n",
       "50%     45.000000       1.000000          0.300000    208.000000    35.000000   \n",
       "75%     58.000000       2.600000          1.300000    298.000000    60.500000   \n",
       "max     90.000000      75.000000         19.700000   2110.000000  2000.000000   \n",
       "\n",
       "          ag_ratio        sgpt        sgot     alkphos  is_patient  \n",
       "count   583.000000  583.000000  583.000000  579.000000  583.000000  \n",
       "mean    109.910806    6.483190    3.141852    0.947064    1.286449  \n",
       "std     288.918529    1.085451    0.795519    0.319592    0.452490  \n",
       "min      10.000000    2.700000    0.900000    0.300000    1.000000  \n",
       "25%      25.000000    5.800000    2.600000    0.700000    1.000000  \n",
       "50%      42.000000    6.600000    3.100000    0.930000    1.000000  \n",
       "75%      87.000000    7.200000    3.800000    1.100000    2.000000  \n",
       "max    4929.000000    9.600000    5.500000    2.800000    2.000000  "
      ]
     },
     "execution_count": 5,
     "metadata": {},
     "output_type": "execute_result"
    }
   ],
   "source": [
    "df.describe()"
   ]
  },
  {
   "cell_type": "code",
   "execution_count": 6,
   "id": "2a70f295",
   "metadata": {},
   "outputs": [
    {
     "data": {
      "text/plain": [
       "1    416\n",
       "2    167\n",
       "Name: is_patient, dtype: int64"
      ]
     },
     "execution_count": 6,
     "metadata": {},
     "output_type": "execute_result"
    }
   ],
   "source": [
    "#check the value counts of liver patient or not\n",
    "df['is_patient'].value_counts()"
   ]
  },
  {
   "cell_type": "markdown",
   "id": "2cd8af95",
   "metadata": {},
   "source": [
    "## Treat categorical feature"
   ]
  },
  {
   "cell_type": "code",
   "execution_count": 7,
   "id": "6970e506",
   "metadata": {},
   "outputs": [],
   "source": [
    "df['gender']=df['gender'].map({'Female':1,'Male':0})"
   ]
  },
  {
   "cell_type": "code",
   "execution_count": 8,
   "id": "18b89bb6",
   "metadata": {},
   "outputs": [
    {
     "data": {
      "text/html": [
       "<div>\n",
       "<style scoped>\n",
       "    .dataframe tbody tr th:only-of-type {\n",
       "        vertical-align: middle;\n",
       "    }\n",
       "\n",
       "    .dataframe tbody tr th {\n",
       "        vertical-align: top;\n",
       "    }\n",
       "\n",
       "    .dataframe thead th {\n",
       "        text-align: right;\n",
       "    }\n",
       "</style>\n",
       "<table border=\"1\" class=\"dataframe\">\n",
       "  <thead>\n",
       "    <tr style=\"text-align: right;\">\n",
       "      <th></th>\n",
       "      <th>age</th>\n",
       "      <th>gender</th>\n",
       "      <th>tot_bilirubin</th>\n",
       "      <th>direct_bilirubin</th>\n",
       "      <th>tot_proteins</th>\n",
       "      <th>albumin</th>\n",
       "      <th>ag_ratio</th>\n",
       "      <th>sgpt</th>\n",
       "      <th>sgot</th>\n",
       "      <th>alkphos</th>\n",
       "      <th>is_patient</th>\n",
       "    </tr>\n",
       "  </thead>\n",
       "  <tbody>\n",
       "    <tr>\n",
       "      <th>0</th>\n",
       "      <td>65</td>\n",
       "      <td>1</td>\n",
       "      <td>0.7</td>\n",
       "      <td>0.1</td>\n",
       "      <td>187</td>\n",
       "      <td>16</td>\n",
       "      <td>18</td>\n",
       "      <td>6.8</td>\n",
       "      <td>3.3</td>\n",
       "      <td>0.90</td>\n",
       "      <td>1</td>\n",
       "    </tr>\n",
       "    <tr>\n",
       "      <th>1</th>\n",
       "      <td>62</td>\n",
       "      <td>0</td>\n",
       "      <td>10.9</td>\n",
       "      <td>5.5</td>\n",
       "      <td>699</td>\n",
       "      <td>64</td>\n",
       "      <td>100</td>\n",
       "      <td>7.5</td>\n",
       "      <td>3.2</td>\n",
       "      <td>0.74</td>\n",
       "      <td>1</td>\n",
       "    </tr>\n",
       "    <tr>\n",
       "      <th>2</th>\n",
       "      <td>62</td>\n",
       "      <td>0</td>\n",
       "      <td>7.3</td>\n",
       "      <td>4.1</td>\n",
       "      <td>490</td>\n",
       "      <td>60</td>\n",
       "      <td>68</td>\n",
       "      <td>7.0</td>\n",
       "      <td>3.3</td>\n",
       "      <td>0.89</td>\n",
       "      <td>1</td>\n",
       "    </tr>\n",
       "    <tr>\n",
       "      <th>3</th>\n",
       "      <td>58</td>\n",
       "      <td>0</td>\n",
       "      <td>1.0</td>\n",
       "      <td>0.4</td>\n",
       "      <td>182</td>\n",
       "      <td>14</td>\n",
       "      <td>20</td>\n",
       "      <td>6.8</td>\n",
       "      <td>3.4</td>\n",
       "      <td>1.00</td>\n",
       "      <td>1</td>\n",
       "    </tr>\n",
       "    <tr>\n",
       "      <th>4</th>\n",
       "      <td>72</td>\n",
       "      <td>0</td>\n",
       "      <td>3.9</td>\n",
       "      <td>2.0</td>\n",
       "      <td>195</td>\n",
       "      <td>27</td>\n",
       "      <td>59</td>\n",
       "      <td>7.3</td>\n",
       "      <td>2.4</td>\n",
       "      <td>0.40</td>\n",
       "      <td>1</td>\n",
       "    </tr>\n",
       "  </tbody>\n",
       "</table>\n",
       "</div>"
      ],
      "text/plain": [
       "   age  gender  tot_bilirubin  direct_bilirubin  tot_proteins  albumin  \\\n",
       "0   65       1            0.7               0.1           187       16   \n",
       "1   62       0           10.9               5.5           699       64   \n",
       "2   62       0            7.3               4.1           490       60   \n",
       "3   58       0            1.0               0.4           182       14   \n",
       "4   72       0            3.9               2.0           195       27   \n",
       "\n",
       "   ag_ratio  sgpt  sgot  alkphos  is_patient  \n",
       "0        18   6.8   3.3     0.90           1  \n",
       "1       100   7.5   3.2     0.74           1  \n",
       "2        68   7.0   3.3     0.89           1  \n",
       "3        20   6.8   3.4     1.00           1  \n",
       "4        59   7.3   2.4     0.40           1  "
      ]
     },
     "execution_count": 8,
     "metadata": {},
     "output_type": "execute_result"
    }
   ],
   "source": [
    "df.head(5)"
   ]
  },
  {
   "cell_type": "code",
   "execution_count": 9,
   "id": "e11aff24",
   "metadata": {},
   "outputs": [],
   "source": [
    "#convery object into integer\n",
    "df['gender'] = df['gender'].astype(int)"
   ]
  },
  {
   "cell_type": "markdown",
   "id": "a79c6029",
   "metadata": {},
   "source": [
    "## Treating null values"
   ]
  },
  {
   "cell_type": "code",
   "execution_count": 10,
   "id": "6a5bd0cc",
   "metadata": {},
   "outputs": [
    {
     "data": {
      "text/plain": [
       "age                 0\n",
       "gender              0\n",
       "tot_bilirubin       0\n",
       "direct_bilirubin    0\n",
       "tot_proteins        0\n",
       "albumin             0\n",
       "ag_ratio            0\n",
       "sgpt                0\n",
       "sgot                0\n",
       "alkphos             4\n",
       "is_patient          0\n",
       "dtype: int64"
      ]
     },
     "execution_count": 10,
     "metadata": {},
     "output_type": "execute_result"
    }
   ],
   "source": [
    "#check the null values\n",
    "df.isnull().sum()"
   ]
  },
  {
   "cell_type": "code",
   "execution_count": 11,
   "id": "02386075",
   "metadata": {},
   "outputs": [],
   "source": [
    "#treat null values\n",
    "df.dropna(axis=1,inplace = True)"
   ]
  },
  {
   "cell_type": "code",
   "execution_count": 12,
   "id": "890eb84c",
   "metadata": {
    "scrolled": true
   },
   "outputs": [
    {
     "data": {
      "text/plain": [
       "Index(['age', 'gender', 'tot_bilirubin', 'direct_bilirubin', 'tot_proteins',\n",
       "       'albumin', 'ag_ratio', 'sgpt', 'sgot', 'is_patient'],\n",
       "      dtype='object')"
      ]
     },
     "execution_count": 12,
     "metadata": {},
     "output_type": "execute_result"
    }
   ],
   "source": [
    "#check the columns name\n",
    "df.columns"
   ]
  },
  {
   "cell_type": "markdown",
   "id": "1b3858a5",
   "metadata": {},
   "source": [
    "## Visualization"
   ]
  },
  {
   "cell_type": "code",
   "execution_count": 13,
   "id": "cfdf03bd",
   "metadata": {
    "scrolled": true
   },
   "outputs": [
    {
     "data": {
      "text/plain": [
       "gender  is_patient\n",
       "0       1             324\n",
       "        2             117\n",
       "1       1              92\n",
       "        2              50\n",
       "Name: gender, dtype: int64"
      ]
     },
     "execution_count": 13,
     "metadata": {},
     "output_type": "execute_result"
    },
    {
     "data": {
      "image/png": "[encoded data removed]",
      "text/plain": [
       "<Figure size 432x288 with 1 Axes>"
      ]
     },
     "metadata": {
      "needs_background": "light"
     },
     "output_type": "display_data"
    }
   ],
   "source": [
    "#checking non liver and liver patient compared with gender\n",
    "sns.countplot(x=df['gender'], hue=df['is_patient'])\n",
    "df.groupby(by=['gender','is_patient'])['gender'].count()"
   ]
  },
  {
   "cell_type": "raw",
   "id": "e78e3f68",
   "metadata": {},
   "source": [
    "Observation: Here, I find female suffer less than male."
   ]
  },
  {
   "cell_type": "code",
   "execution_count": 14,
   "id": "f0de9b7c",
   "metadata": {},
   "outputs": [
    {
     "name": "stderr",
     "output_type": "stream",
     "text": [
      "C:\\Users\\Shruti\\OneDrive\\Documents\\IPython Notebooks\\lib\\site-packages\\seaborn\\_decorators.py:36: FutureWarning: Pass the following variable as a keyword arg: x. From version 0.12, the only valid positional argument will be `data`, and passing other arguments without an explicit keyword will result in an error or misinterpretation.\n",
      "  warnings.warn(\n",
      "C:\\Users\\Shruti\\OneDrive\\Documents\\IPython Notebooks\\lib\\site-packages\\seaborn\\_decorators.py:36: FutureWarning: Pass the following variable as a keyword arg: x. From version 0.12, the only valid positional argument will be `data`, and passing other arguments without an explicit keyword will result in an error or misinterpretation.\n",
      "  warnings.warn(\n"
     ]
    },
    {
     "data": {
      "text/plain": [
       "<AxesSubplot:xlabel='is_patient'>"
      ]
     },
     "execution_count": 14,
     "metadata": {},
     "output_type": "execute_result"
    },
    {
     "data": {
      "image/png": "[encoded data removed]",
      "text/plain": [
       "<Figure size 720x504 with 2 Axes>"
      ]
     },
     "metadata": {
      "needs_background": "light"
     },
     "output_type": "display_data"
    }
   ],
   "source": [
    "#prepare boxplot\n",
    "plt.figure(figsize=(10,7))\n",
    "plt.subplot(2,1,1)\n",
    "sns.boxplot(df['age'])\n",
    "plt.subplot(2,1,2)\n",
    "sns.boxplot(df['is_patient'])"
   ]
  },
  {
   "cell_type": "code",
   "execution_count": 15,
   "id": "250a1383",
   "metadata": {},
   "outputs": [
    {
     "name": "stderr",
     "output_type": "stream",
     "text": [
      "C:\\Users\\Shruti\\OneDrive\\Documents\\IPython Notebooks\\lib\\site-packages\\seaborn\\_decorators.py:36: FutureWarning: Pass the following variable as a keyword arg: x. From version 0.12, the only valid positional argument will be `data`, and passing other arguments without an explicit keyword will result in an error or misinterpretation.\n",
      "  warnings.warn(\n"
     ]
    },
    {
     "data": {
      "text/plain": [
       "<AxesSubplot:xlabel='tot_proteins'>"
      ]
     },
     "execution_count": 15,
     "metadata": {},
     "output_type": "execute_result"
    },
    {
     "data": {
      "image/png": "[encoded data removed]",
      "text/plain": [
       "<Figure size 432x288 with 1 Axes>"
      ]
     },
     "metadata": {
      "needs_background": "light"
     },
     "output_type": "display_data"
    }
   ],
   "source": [
    "#prepare boxplot\n",
    "sns.boxplot(df['tot_proteins'])"
   ]
  },
  {
   "cell_type": "code",
   "execution_count": 16,
   "id": "b82d7420",
   "metadata": {},
   "outputs": [
    {
     "data": {
      "text/html": [
       "<div>\n",
       "<style scoped>\n",
       "    .dataframe tbody tr th:only-of-type {\n",
       "        vertical-align: middle;\n",
       "    }\n",
       "\n",
       "    .dataframe tbody tr th {\n",
       "        vertical-align: top;\n",
       "    }\n",
       "\n",
       "    .dataframe thead th {\n",
       "        text-align: right;\n",
       "    }\n",
       "</style>\n",
       "<table border=\"1\" class=\"dataframe\">\n",
       "  <thead>\n",
       "    <tr style=\"text-align: right;\">\n",
       "      <th></th>\n",
       "      <th>age</th>\n",
       "      <th>gender</th>\n",
       "      <th>tot_bilirubin</th>\n",
       "      <th>direct_bilirubin</th>\n",
       "      <th>tot_proteins</th>\n",
       "      <th>albumin</th>\n",
       "      <th>ag_ratio</th>\n",
       "      <th>sgpt</th>\n",
       "      <th>sgot</th>\n",
       "      <th>is_patient</th>\n",
       "    </tr>\n",
       "  </thead>\n",
       "  <tbody>\n",
       "    <tr>\n",
       "      <th>age</th>\n",
       "      <td>1.000000</td>\n",
       "      <td>-0.056560</td>\n",
       "      <td>0.011763</td>\n",
       "      <td>0.007529</td>\n",
       "      <td>0.080425</td>\n",
       "      <td>-0.086883</td>\n",
       "      <td>-0.019910</td>\n",
       "      <td>-0.187461</td>\n",
       "      <td>-0.265924</td>\n",
       "      <td>-0.137351</td>\n",
       "    </tr>\n",
       "    <tr>\n",
       "      <th>gender</th>\n",
       "      <td>-0.056560</td>\n",
       "      <td>1.000000</td>\n",
       "      <td>-0.089291</td>\n",
       "      <td>-0.100436</td>\n",
       "      <td>0.027496</td>\n",
       "      <td>-0.082332</td>\n",
       "      <td>-0.080336</td>\n",
       "      <td>0.089121</td>\n",
       "      <td>0.093799</td>\n",
       "      <td>0.082416</td>\n",
       "    </tr>\n",
       "    <tr>\n",
       "      <th>tot_bilirubin</th>\n",
       "      <td>0.011763</td>\n",
       "      <td>-0.089291</td>\n",
       "      <td>1.000000</td>\n",
       "      <td>0.874618</td>\n",
       "      <td>0.206669</td>\n",
       "      <td>0.214065</td>\n",
       "      <td>0.237831</td>\n",
       "      <td>-0.008099</td>\n",
       "      <td>-0.222250</td>\n",
       "      <td>-0.220208</td>\n",
       "    </tr>\n",
       "    <tr>\n",
       "      <th>direct_bilirubin</th>\n",
       "      <td>0.007529</td>\n",
       "      <td>-0.100436</td>\n",
       "      <td>0.874618</td>\n",
       "      <td>1.000000</td>\n",
       "      <td>0.234939</td>\n",
       "      <td>0.233894</td>\n",
       "      <td>0.257544</td>\n",
       "      <td>-0.000139</td>\n",
       "      <td>-0.228531</td>\n",
       "      <td>-0.246046</td>\n",
       "    </tr>\n",
       "    <tr>\n",
       "      <th>tot_proteins</th>\n",
       "      <td>0.080425</td>\n",
       "      <td>0.027496</td>\n",
       "      <td>0.206669</td>\n",
       "      <td>0.234939</td>\n",
       "      <td>1.000000</td>\n",
       "      <td>0.125680</td>\n",
       "      <td>0.167196</td>\n",
       "      <td>-0.028514</td>\n",
       "      <td>-0.165453</td>\n",
       "      <td>-0.184866</td>\n",
       "    </tr>\n",
       "    <tr>\n",
       "      <th>albumin</th>\n",
       "      <td>-0.086883</td>\n",
       "      <td>-0.082332</td>\n",
       "      <td>0.214065</td>\n",
       "      <td>0.233894</td>\n",
       "      <td>0.125680</td>\n",
       "      <td>1.000000</td>\n",
       "      <td>0.791966</td>\n",
       "      <td>-0.042518</td>\n",
       "      <td>-0.029742</td>\n",
       "      <td>-0.163416</td>\n",
       "    </tr>\n",
       "    <tr>\n",
       "      <th>ag_ratio</th>\n",
       "      <td>-0.019910</td>\n",
       "      <td>-0.080336</td>\n",
       "      <td>0.237831</td>\n",
       "      <td>0.257544</td>\n",
       "      <td>0.167196</td>\n",
       "      <td>0.791966</td>\n",
       "      <td>1.000000</td>\n",
       "      <td>-0.025645</td>\n",
       "      <td>-0.085290</td>\n",
       "      <td>-0.151934</td>\n",
       "    </tr>\n",
       "    <tr>\n",
       "      <th>sgpt</th>\n",
       "      <td>-0.187461</td>\n",
       "      <td>0.089121</td>\n",
       "      <td>-0.008099</td>\n",
       "      <td>-0.000139</td>\n",
       "      <td>-0.028514</td>\n",
       "      <td>-0.042518</td>\n",
       "      <td>-0.025645</td>\n",
       "      <td>1.000000</td>\n",
       "      <td>0.784053</td>\n",
       "      <td>0.035008</td>\n",
       "    </tr>\n",
       "    <tr>\n",
       "      <th>sgot</th>\n",
       "      <td>-0.265924</td>\n",
       "      <td>0.093799</td>\n",
       "      <td>-0.222250</td>\n",
       "      <td>-0.228531</td>\n",
       "      <td>-0.165453</td>\n",
       "      <td>-0.029742</td>\n",
       "      <td>-0.085290</td>\n",
       "      <td>0.784053</td>\n",
       "      <td>1.000000</td>\n",
       "      <td>0.161388</td>\n",
       "    </tr>\n",
       "    <tr>\n",
       "      <th>is_patient</th>\n",
       "      <td>-0.137351</td>\n",
       "      <td>0.082416</td>\n",
       "      <td>-0.220208</td>\n",
       "      <td>-0.246046</td>\n",
       "      <td>-0.184866</td>\n",
       "      <td>-0.163416</td>\n",
       "      <td>-0.151934</td>\n",
       "      <td>0.035008</td>\n",
       "      <td>0.161388</td>\n",
       "      <td>1.000000</td>\n",
       "    </tr>\n",
       "  </tbody>\n",
       "</table>\n",
       "</div>"
      ],
      "text/plain": [
       "                       age    gender  tot_bilirubin  direct_bilirubin  \\\n",
       "age               1.000000 -0.056560       0.011763          0.007529   \n",
       "gender           -0.056560  1.000000      -0.089291         -0.100436   \n",
       "tot_bilirubin     0.011763 -0.089291       1.000000          0.874618   \n",
       "direct_bilirubin  0.007529 -0.100436       0.874618          1.000000   \n",
       "tot_proteins      0.080425  0.027496       0.206669          0.234939   \n",
       "albumin          -0.086883 -0.082332       0.214065          0.233894   \n",
       "ag_ratio         -0.019910 -0.080336       0.237831          0.257544   \n",
       "sgpt             -0.187461  0.089121      -0.008099         -0.000139   \n",
       "sgot             -0.265924  0.093799      -0.222250         -0.228531   \n",
       "is_patient       -0.137351  0.082416      -0.220208         -0.246046   \n",
       "\n",
       "                  tot_proteins   albumin  ag_ratio      sgpt      sgot  \\\n",
       "age                   0.080425 -0.086883 -0.019910 -0.187461 -0.265924   \n",
       "gender                0.027496 -0.082332 -0.080336  0.089121  0.093799   \n",
       "tot_bilirubin         0.206669  0.214065  0.237831 -0.008099 -0.222250   \n",
       "direct_bilirubin      0.234939  0.233894  0.257544 -0.000139 -0.228531   \n",
       "tot_proteins          1.000000  0.125680  0.167196 -0.028514 -0.165453   \n",
       "albumin               0.125680  1.000000  0.791966 -0.042518 -0.029742   \n",
       "ag_ratio              0.167196  0.791966  1.000000 -0.025645 -0.085290   \n",
       "sgpt                 -0.028514 -0.042518 -0.025645  1.000000  0.784053   \n",
       "sgot                 -0.165453 -0.029742 -0.085290  0.784053  1.000000   \n",
       "is_patient           -0.184866 -0.163416 -0.151934  0.035008  0.161388   \n",
       "\n",
       "                  is_patient  \n",
       "age                -0.137351  \n",
       "gender              0.082416  \n",
       "tot_bilirubin      -0.220208  \n",
       "direct_bilirubin   -0.246046  \n",
       "tot_proteins       -0.184866  \n",
       "albumin            -0.163416  \n",
       "ag_ratio           -0.151934  \n",
       "sgpt                0.035008  \n",
       "sgot                0.161388  \n",
       "is_patient          1.000000  "
      ]
     },
     "execution_count": 16,
     "metadata": {},
     "output_type": "execute_result"
    }
   ],
   "source": [
    "#prepare confusion matrix\n",
    "df.corr()"
   ]
  },
  {
   "cell_type": "code",
   "execution_count": 17,
   "id": "cf327b0a",
   "metadata": {
    "scrolled": true
   },
   "outputs": [
    {
     "data": {
      "image/png": "[encoded data removed]",
      "text/plain": [
       "<Figure size 720x504 with 2 Axes>"
      ]
     },
     "metadata": {
      "needs_background": "light"
     },
     "output_type": "display_data"
    }
   ],
   "source": [
    "plt.figure(figsize=(10,7))\n",
    "sns.heatmap(df.corr(), vmax=1, vmin=-1, annot=True, cmap='RdBu')\n",
    "plt.show()"
   ]
  },
  {
   "cell_type": "markdown",
   "id": "ab220ac2",
   "metadata": {},
   "source": [
    "## Model evaluation"
   ]
  },
  {
   "cell_type": "code",
   "execution_count": 18,
   "id": "3032c2c3",
   "metadata": {},
   "outputs": [],
   "source": [
    "from sklearn.model_selection import train_test_split"
   ]
  },
  {
   "cell_type": "code",
   "execution_count": 19,
   "id": "df044c27",
   "metadata": {},
   "outputs": [],
   "source": [
    "x = df.drop(columns=['is_patient'])\n",
    "y = df['is_patient']"
   ]
  },
  {
   "cell_type": "code",
   "execution_count": 20,
   "id": "f45fa9d1",
   "metadata": {},
   "outputs": [],
   "source": [
    "x_train , x_test, y_train, y_test = train_test_split(x,y, test_size = 0.33, random_state = 42)"
   ]
  },
  {
   "cell_type": "code",
   "execution_count": 21,
   "id": "fa4a839e",
   "metadata": {
    "scrolled": true
   },
   "outputs": [
    {
     "name": "stdout",
     "output_type": "stream",
     "text": [
      "The shape of Training Data  (390, 9) and (390,)\n",
      "The shape of Testing Data (193, 9) and (193,)\n"
     ]
    }
   ],
   "source": [
    "print('The shape of Training Data ', x_train.shape, 'and', y_train.shape)\n",
    "print('The shape of Testing Data', x_test.shape , 'and', y_test.shape)"
   ]
  },
  {
   "cell_type": "markdown",
   "id": "0240bb6f",
   "metadata": {},
   "source": [
    "## Build model"
   ]
  },
  {
   "cell_type": "raw",
   "id": "27bf2370",
   "metadata": {},
   "source": [
    "Algorithms used for predicting modeling :\n",
    "1.Logistic Regression\n",
    "2. Decision Tree classifier\n",
    "3. K Neariest Neighbors"
   ]
  },
  {
   "cell_type": "markdown",
   "id": "65165334",
   "metadata": {},
   "source": [
    "### 1. Logistic Regression"
   ]
  },
  {
   "cell_type": "code",
   "execution_count": 42,
   "id": "69fbb85f",
   "metadata": {},
   "outputs": [
    {
     "name": "stderr",
     "output_type": "stream",
     "text": [
      "C:\\Users\\Shruti\\OneDrive\\Documents\\IPython Notebooks\\lib\\site-packages\\sklearn\\linear_model\\_logistic.py:763: ConvergenceWarning: lbfgs failed to converge (status=1):\n",
      "STOP: TOTAL NO. of ITERATIONS REACHED LIMIT.\n",
      "\n",
      "Increase the number of iterations (max_iter) or scale the data as shown in:\n",
      "    https://scikit-learn.org/stable/modules/preprocessing.html\n",
      "Please also refer to the documentation for alternative solver options:\n",
      "    https://scikit-learn.org/stable/modules/linear_model.html#logistic-regression\n",
      "  n_iter_i = _check_optimize_result(\n"
     ]
    },
    {
     "data": {
      "text/plain": [
       "LogisticRegression()"
      ]
     },
     "execution_count": 42,
     "metadata": {},
     "output_type": "execute_result"
    }
   ],
   "source": [
    "from sklearn.linear_model import LogisticRegression\n",
    "model1 = LogisticRegression()\n",
    "model1.fit(x_train,y_train)"
   ]
  },
  {
   "cell_type": "code",
   "execution_count": 43,
   "id": "a68c95ec",
   "metadata": {
    "scrolled": true
   },
   "outputs": [
    {
     "data": {
      "text/plain": [
       "array([2, 1, 1, 1, 1, 1, 1, 1, 1, 1, 1, 1, 2, 2, 1, 1, 1, 1, 1, 1, 1, 1,\n",
       "       1, 1, 1, 1, 1, 1, 1, 1, 1, 1, 1, 1, 1, 1, 1, 1, 1, 1, 1, 2, 1, 1,\n",
       "       1, 1, 2, 1, 1, 1, 1, 1, 1, 1, 1, 2, 1, 2, 1, 1, 1, 1, 1, 1, 1, 1,\n",
       "       1, 1, 1, 1, 1, 1, 1, 2, 1, 1, 1, 2, 2, 1, 1, 1, 1, 1, 1, 1, 2, 1,\n",
       "       1, 1, 1, 1, 1, 1, 1, 1, 1, 1, 1, 1, 1, 1, 1, 1, 2, 1, 1, 1, 1, 1,\n",
       "       2, 1, 1, 1, 1, 2, 2, 1, 1, 1, 1, 1, 1, 1, 1, 1, 1, 1, 1, 1, 1, 1,\n",
       "       1, 1, 1, 1, 1, 2, 1, 1, 1, 1, 1, 2, 1, 2, 1, 1, 1, 1, 1, 1, 1, 1,\n",
       "       1, 1, 1, 1, 1, 1, 1, 1, 1, 1, 1, 1, 1, 1, 1, 1, 1, 1, 2, 1, 1, 1,\n",
       "       1, 1, 1, 1, 1, 1, 1, 1, 1, 1, 1, 1, 1, 2, 1, 1, 1], dtype=int64)"
      ]
     },
     "execution_count": 43,
     "metadata": {},
     "output_type": "execute_result"
    }
   ],
   "source": [
    "#Do predictions\n",
    "pred1 = model1.predict(x_test)\n",
    "pred1"
   ]
  },
  {
   "cell_type": "code",
   "execution_count": 44,
   "id": "ce320e2c",
   "metadata": {},
   "outputs": [
    {
     "name": "stdout",
     "output_type": "stream",
     "text": [
      "the accuracy of model: 72.02072538860104 %\n"
     ]
    }
   ],
   "source": [
    "#Check accuracy score\n",
    "from sklearn.metrics import accuracy_score\n",
    "model1 = accuracy_score(y_test,pred1)\n",
    "print('the accuracy of model:', model1*100,'%')"
   ]
  },
  {
   "cell_type": "code",
   "execution_count": 46,
   "id": "9f852bbb",
   "metadata": {},
   "outputs": [
    {
     "name": "stdout",
     "output_type": "stream",
     "text": [
      "              precision    recall  f1-score   support\n",
      "\n",
      "           1       0.75      0.92      0.83       141\n",
      "           2       0.45      0.17      0.25        52\n",
      "\n",
      "    accuracy                           0.72       193\n",
      "   macro avg       0.60      0.55      0.54       193\n",
      "weighted avg       0.67      0.72      0.67       193\n",
      "\n"
     ]
    }
   ],
   "source": [
    "#prepare classification report\n",
    "from sklearn.metrics import classification_report\n",
    "classification_report(y_test,pred1)\n",
    "print(classification_report(y_test,pred1))"
   ]
  },
  {
   "cell_type": "code",
   "execution_count": 49,
   "id": "ca197642",
   "metadata": {},
   "outputs": [],
   "source": [
    "from sklearn.metrics import confusion_matrix\n",
    "cm = confusion_matrix(y_test, pred1)\n",
    "cm\n",
    "cm = pd.DataFrame(cm, columns = ['Actual Value : 1', 'Actual Value : 0'], index = ['Predicted Values : 1', 'Predicted Values : 0'])"
   ]
  },
  {
   "cell_type": "code",
   "execution_count": 50,
   "id": "4608a6d9",
   "metadata": {},
   "outputs": [
    {
     "data": {
      "text/html": [
       "<div>\n",
       "<style scoped>\n",
       "    .dataframe tbody tr th:only-of-type {\n",
       "        vertical-align: middle;\n",
       "    }\n",
       "\n",
       "    .dataframe tbody tr th {\n",
       "        vertical-align: top;\n",
       "    }\n",
       "\n",
       "    .dataframe thead th {\n",
       "        text-align: right;\n",
       "    }\n",
       "</style>\n",
       "<table border=\"1\" class=\"dataframe\">\n",
       "  <thead>\n",
       "    <tr style=\"text-align: right;\">\n",
       "      <th></th>\n",
       "      <th>Actual Value : 1</th>\n",
       "      <th>Actual Value : 0</th>\n",
       "    </tr>\n",
       "  </thead>\n",
       "  <tbody>\n",
       "    <tr>\n",
       "      <th>Predicted Values : 1</th>\n",
       "      <td>130</td>\n",
       "      <td>11</td>\n",
       "    </tr>\n",
       "    <tr>\n",
       "      <th>Predicted Values : 0</th>\n",
       "      <td>43</td>\n",
       "      <td>9</td>\n",
       "    </tr>\n",
       "  </tbody>\n",
       "</table>\n",
       "</div>"
      ],
      "text/plain": [
       "                      Actual Value : 1  Actual Value : 0\n",
       "Predicted Values : 1               130                11\n",
       "Predicted Values : 0                43                 9"
      ]
     },
     "execution_count": 50,
     "metadata": {},
     "output_type": "execute_result"
    }
   ],
   "source": [
    "cm"
   ]
  },
  {
   "cell_type": "code",
   "execution_count": 52,
   "id": "6c5ca668",
   "metadata": {
    "scrolled": true
   },
   "outputs": [
    {
     "data": {
      "text/plain": [
       "<AxesSubplot:>"
      ]
     },
     "execution_count": 52,
     "metadata": {},
     "output_type": "execute_result"
    },
    {
     "data": {
      "image/png": "[encoded data removed]",
      "text/plain": [
       "<Figure size 432x288 with 2 Axes>"
      ]
     },
     "metadata": {
      "needs_background": "light"
     },
     "output_type": "display_data"
    }
   ],
   "source": [
    "sns.heatmap(cm , annot= True)"
   ]
  },
  {
   "cell_type": "markdown",
   "id": "4c10d829",
   "metadata": {},
   "source": [
    "### 2.Decision Tree Classifier"
   ]
  },
  {
   "cell_type": "code",
   "execution_count": 53,
   "id": "1f4da820",
   "metadata": {},
   "outputs": [],
   "source": [
    "from sklearn.tree import DecisionTreeClassifier\n",
    "from sklearn import tree"
   ]
  },
  {
   "cell_type": "code",
   "execution_count": 54,
   "id": "0bd19f09",
   "metadata": {},
   "outputs": [],
   "source": [
    "model2 = tree.DecisionTreeClassifier()"
   ]
  },
  {
   "cell_type": "code",
   "execution_count": 55,
   "id": "c4fa5025",
   "metadata": {
    "scrolled": true
   },
   "outputs": [
    {
     "data": {
      "text/plain": [
       "DecisionTreeClassifier()"
      ]
     },
     "execution_count": 55,
     "metadata": {},
     "output_type": "execute_result"
    }
   ],
   "source": [
    "model2.fit(x_train,y_train)"
   ]
  },
  {
   "cell_type": "code",
   "execution_count": 56,
   "id": "a1120cbb",
   "metadata": {},
   "outputs": [],
   "source": [
    "pred2 = model2.predict(x_test)"
   ]
  },
  {
   "cell_type": "code",
   "execution_count": 57,
   "id": "834e6f63",
   "metadata": {
    "scrolled": true
   },
   "outputs": [
    {
     "name": "stdout",
     "output_type": "stream",
     "text": [
      "the accuracy of model: 70.46632124352331 %\n"
     ]
    }
   ],
   "source": [
    "model2 = accuracy_score(y_test,pred2)\n",
    "print('the accuracy of model:', model2*100,'%')"
   ]
  },
  {
   "cell_type": "code",
   "execution_count": 59,
   "id": "70976c1e",
   "metadata": {},
   "outputs": [
    {
     "name": "stdout",
     "output_type": "stream",
     "text": [
      "              precision    recall  f1-score   support\n",
      "\n",
      "           1       0.79      0.82      0.80       141\n",
      "           2       0.45      0.40      0.42        52\n",
      "\n",
      "    accuracy                           0.70       193\n",
      "   macro avg       0.62      0.61      0.61       193\n",
      "weighted avg       0.70      0.70      0.70       193\n",
      "\n"
     ]
    }
   ],
   "source": [
    "classification_report(y_test,pred2)\n",
    "print(classification_report(y_test,pred2))"
   ]
  },
  {
   "cell_type": "code",
   "execution_count": 61,
   "id": "115c2728",
   "metadata": {},
   "outputs": [
    {
     "data": {
      "text/plain": [
       "array([[115,  26],\n",
       "       [ 31,  21]], dtype=int64)"
      ]
     },
     "execution_count": 61,
     "metadata": {},
     "output_type": "execute_result"
    }
   ],
   "source": [
    "cm1 = confusion_matrix(y_test, pred2)\n",
    "cm1"
   ]
  },
  {
   "cell_type": "code",
   "execution_count": 62,
   "id": "6ca5866f",
   "metadata": {},
   "outputs": [
    {
     "data": {
      "text/plain": [
       "<AxesSubplot:>"
      ]
     },
     "execution_count": 62,
     "metadata": {},
     "output_type": "execute_result"
    },
    {
     "data": {
      "image/png": "[encoded data removed]",
      "text/plain": [
       "<Figure size 432x288 with 2 Axes>"
      ]
     },
     "metadata": {
      "needs_background": "light"
     },
     "output_type": "display_data"
    }
   ],
   "source": [
    "sns.heatmap(cm1 , annot= True)"
   ]
  },
  {
   "cell_type": "markdown",
   "id": "cfeafefd",
   "metadata": {},
   "source": [
    "### 3. K neariest neighbors"
   ]
  },
  {
   "cell_type": "code",
   "execution_count": 63,
   "id": "2ebaede8",
   "metadata": {},
   "outputs": [],
   "source": [
    "from sklearn.neighbors import KNeighborsClassifier"
   ]
  },
  {
   "cell_type": "code",
   "execution_count": 64,
   "id": "8bf8c217",
   "metadata": {},
   "outputs": [],
   "source": [
    "model3 = KNeighborsClassifier(n_neighbors= 7)"
   ]
  },
  {
   "cell_type": "code",
   "execution_count": 65,
   "id": "0e197e31",
   "metadata": {},
   "outputs": [
    {
     "data": {
      "text/plain": [
       "KNeighborsClassifier(n_neighbors=7)"
      ]
     },
     "execution_count": 65,
     "metadata": {},
     "output_type": "execute_result"
    }
   ],
   "source": [
    "model3.fit(x_train, y_train)"
   ]
  },
  {
   "cell_type": "code",
   "execution_count": 66,
   "id": "45ed33be",
   "metadata": {},
   "outputs": [],
   "source": [
    "pred3 = model3.predict(x_test)"
   ]
  },
  {
   "cell_type": "code",
   "execution_count": 67,
   "id": "c07b4e82",
   "metadata": {
    "scrolled": true
   },
   "outputs": [
    {
     "name": "stdout",
     "output_type": "stream",
     "text": [
      "the accuracy of model: 73.57512953367875 %\n"
     ]
    }
   ],
   "source": [
    "model3 = accuracy_score(y_test,pred3)\n",
    "print('the accuracy of model:', model3*100,'%')"
   ]
  },
  {
   "cell_type": "code",
   "execution_count": 68,
   "id": "68580dc8",
   "metadata": {},
   "outputs": [
    {
     "name": "stdout",
     "output_type": "stream",
     "text": [
      "              precision    recall  f1-score   support\n",
      "\n",
      "           1       0.79      0.87      0.83       141\n",
      "           2       0.51      0.38      0.44        52\n",
      "\n",
      "    accuracy                           0.74       193\n",
      "   macro avg       0.65      0.62      0.63       193\n",
      "weighted avg       0.72      0.74      0.72       193\n",
      "\n"
     ]
    }
   ],
   "source": [
    "print(classification_report(y_test,pred3))"
   ]
  },
  {
   "cell_type": "raw",
   "id": "93892a27",
   "metadata": {},
   "source": [
    "observation: Here, I find the accuracy of KNN model is 74%."
   ]
  },
  {
   "cell_type": "code",
   "execution_count": 69,
   "id": "ead55a2d",
   "metadata": {},
   "outputs": [],
   "source": [
    "pred4 = model4.predict(x_test)"
   ]
  },
  {
   "cell_type": "code",
   "execution_count": 70,
   "id": "d014184d",
   "metadata": {},
   "outputs": [
    {
     "data": {
      "text/plain": [
       "array([[122,  19],\n",
       "       [ 32,  20]], dtype=int64)"
      ]
     },
     "execution_count": 70,
     "metadata": {},
     "output_type": "execute_result"
    }
   ],
   "source": [
    "cm = confusion_matrix(y_test, pred3)\n",
    "cm"
   ]
  },
  {
   "cell_type": "code",
   "execution_count": 71,
   "id": "4cf05c60",
   "metadata": {},
   "outputs": [],
   "source": [
    "cm = pd.DataFrame(cm, columns = ['Actual Value : 1', 'Actual Value : 0'], index = ['Predicted Values : 1', 'Predicted Values : 0'])"
   ]
  },
  {
   "cell_type": "code",
   "execution_count": 72,
   "id": "ae3008c8",
   "metadata": {},
   "outputs": [
    {
     "data": {
      "text/html": [
       "<div>\n",
       "<style scoped>\n",
       "    .dataframe tbody tr th:only-of-type {\n",
       "        vertical-align: middle;\n",
       "    }\n",
       "\n",
       "    .dataframe tbody tr th {\n",
       "        vertical-align: top;\n",
       "    }\n",
       "\n",
       "    .dataframe thead th {\n",
       "        text-align: right;\n",
       "    }\n",
       "</style>\n",
       "<table border=\"1\" class=\"dataframe\">\n",
       "  <thead>\n",
       "    <tr style=\"text-align: right;\">\n",
       "      <th></th>\n",
       "      <th>Actual Value : 1</th>\n",
       "      <th>Actual Value : 0</th>\n",
       "    </tr>\n",
       "  </thead>\n",
       "  <tbody>\n",
       "    <tr>\n",
       "      <th>Predicted Values : 1</th>\n",
       "      <td>122</td>\n",
       "      <td>19</td>\n",
       "    </tr>\n",
       "    <tr>\n",
       "      <th>Predicted Values : 0</th>\n",
       "      <td>32</td>\n",
       "      <td>20</td>\n",
       "    </tr>\n",
       "  </tbody>\n",
       "</table>\n",
       "</div>"
      ],
      "text/plain": [
       "                      Actual Value : 1  Actual Value : 0\n",
       "Predicted Values : 1               122                19\n",
       "Predicted Values : 0                32                20"
      ]
     },
     "execution_count": 72,
     "metadata": {},
     "output_type": "execute_result"
    }
   ],
   "source": [
    "cm"
   ]
  },
  {
   "cell_type": "code",
   "execution_count": 73,
   "id": "0da71572",
   "metadata": {},
   "outputs": [
    {
     "data": {
      "text/plain": [
       "<AxesSubplot:>"
      ]
     },
     "execution_count": 73,
     "metadata": {},
     "output_type": "execute_result"
    },
    {
     "data": {
      "image/png": "[encoded data removed]",
      "text/plain": [
       "<Figure size 432x288 with 2 Axes>"
      ]
     },
     "metadata": {
      "needs_background": "light"
     },
     "output_type": "display_data"
    }
   ],
   "source": [
    "sns.heatmap(cm , annot= True)"
   ]
  },
  {
   "cell_type": "raw",
   "id": "aed290c4",
   "metadata": {},
   "source": [
    "Observation:Here,I find K-neariest neighbour fits better than other algorithms."
   ]
  },
  {
   "cell_type": "code",
   "execution_count": 74,
   "id": "37ce0b34",
   "metadata": {},
   "outputs": [],
   "source": [
    "from sklearn.metrics import mean_squared_error,mean_absolute_error,r2_score\n",
    "import math"
   ]
  },
  {
   "cell_type": "code",
   "execution_count": 75,
   "id": "f4934ff4",
   "metadata": {},
   "outputs": [
    {
     "name": "stdout",
     "output_type": "stream",
     "text": [
      "MSR= 0.26424870466321243 MAE= 0.26424870466321243 RMSE= 0.5140512665709641\n"
     ]
    }
   ],
   "source": [
    "mse = mean_squared_error(y_test,pred3)\n",
    "mae = mean_absolute_error(y_test,pred3)\n",
    "rmse = math.sqrt(mse)\n",
    "print('MSR=',mse,'MAE=',mae,'RMSE=',rmse)"
   ]
  },
  {
   "cell_type": "code",
   "execution_count": null,
   "id": "cfd618e6",
   "metadata": {},
   "outputs": [],
   "source": []
  }
 ],
 "metadata": {
  "kernelspec": {
   "display_name": "Python 3 (ipykernel)",
   "language": "python",
   "name": "python3"
  },
  "language_info": {
   "codemirror_mode": {
    "name": "ipython",
    "version": 3
   },
   "file_extension": ".py",
   "mimetype": "text/x-python",
   "name": "python",
   "nbconvert_exporter": "python",
   "pygments_lexer": "ipython3",
   "version": "3.9.7"
  }
 },
 "nbformat": 4,
 "nbformat_minor": 5
}
